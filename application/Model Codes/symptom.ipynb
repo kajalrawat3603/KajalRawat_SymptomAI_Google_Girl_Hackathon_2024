{
 "cells": [
  {
   "cell_type": "code",
   "execution_count": 4,
   "metadata": {
    "id": "aPNmiq7KQsP9"
   },
   "outputs": [],
   "source": [
    "import pandas as pd\n",
    "from sklearn.model_selection import train_test_split\n",
    "from sklearn.metrics import f1_score, accuracy_score, confusion_matrix\n",
    "from sklearn.linear_model import LogisticRegression\n",
    "from sklearn.ensemble import RandomForestClassifier, GradientBoostingClassifier\n",
    "from sklearn.svm import SVC\n",
    "from sklearn.preprocessing import LabelEncoder\n",
    "\n",
    "df = pd.read_csv('C:\\\\Users\\\\KAJAL\\\\Desktop\\\\symptomAI\\\\application\\\\Datasets\\\\dataset.csv')\n",
    "precaution_df = pd.read_csv('C:\\\\Users\\\\KAJAL\\\\Desktop\\\\symptomAI\\\\application\\\\Datasets\\\\symptom\\\\symptom_precaution.csv')\n",
    "\n",
    "df_with_precautions = df.merge(precaution_df, on='Disease')\n",
    "\n",
    "df = pd.read_csv('C:\\\\Users\\\\KAJAL\\\\Desktop\\\\symptomAI\\\\application\\\\Datasets\\\\dataset.csv')\n",
    "df.head()\n",
    "df1 = pd.read_csv('C:\\\\Users\\\\KAJAL\\\\Desktop\\\\symptomAI\\\\application\\\\Datasets\\\\symptom\\\\Symptom_severity.csv')\n",
    "df1.head()\n",
    "df2 = pd.read_csv('C:\\\\Users\\\\KAJAL\\\\Desktop\\\\symptomAI\\\\application\\\\Datasets\\\\symptom\\\\symptom_Description.csv')\n",
    "df2.head()\n",
    "df3 = pd.read_csv('C:\\\\Users\\\\KAJAL\\\\Desktop\\\\symptomAI\\\\application\\\\Datasets\\\\symptom\\\\symptom_precaution.csv')\n",
    "df3.head()\n",
    "\n",
    "df.isna().sum()\n",
    "df.isnull().sum()\n",
    "cols = df.columns\n",
    "data = df[cols].values.flatten()\n",
    "s = pd.Series(data)\n",
    "s = s.str.strip()\n",
    "s = s.values.reshape(df.shape)\n",
    "df = pd.DataFrame(s, columns=df.columns)\n",
    "df = df.fillna(0)\n",
    "df.head()\n",
    "\n",
    "vals = df.values\n",
    "symptoms = df1['Symptom'].unique()\n",
    "for i in range(len(symptoms)):\n",
    "    vals[vals == symptoms[i]] = df1[df1['Symptom'] == symptoms[i]]['weight'].values[0]\n",
    "d = pd.DataFrame(vals, columns=cols)\n",
    "d = d.replace('dischromic _patches', 0)\n",
    "d = d.replace('spotting_ urination',0)\n",
    "df = d.replace('foul_smell_of urine',0)\n",
    "df.head()\n",
    "\n",
    "(df[cols] == 0).all()\n",
    "df['Disease'].value_counts()\n",
    "df['Disease'].unique()\n",
    "data = df.iloc[:,1:].values\n",
    "labels = df['Disease'].values"
   ]
  },
  {
   "cell_type": "code",
   "execution_count": 5,
   "metadata": {
    "colab": {
     "base_uri": "https://localhost:8080/"
    },
    "id": "Q_QpCnmRYZC6",
    "outputId": "7a8c74ec-972c-42e1-aef0-1c1368d8287e"
   },
   "outputs": [
    {
     "name": "stdout",
     "output_type": "stream",
     "text": [
      "(3936, 17)\n",
      "(3936,)\n",
      "(984, 17)\n",
      "(984,)\n",
      "[[1 3 4 ... 0 0 0]\n",
      " [3 4 0 ... 0 0 0]\n",
      " [1 4 0 ... 0 0 0]\n",
      " ...\n",
      " [6 4 0 ... 0 0 0]\n",
      " [3 3 3 ... 0 0 0]\n",
      " [3 7 4 ... 0 0 0]]\n"
     ]
    }
   ],
   "source": [
    "x_train_disease, x_test_disease, y_train_disease, y_test_disease = train_test_split(data, labels, test_size=0.2, random_state=42)\n",
    "print(x_train_disease.shape)\n",
    "print(y_train_disease.shape)\n",
    "print(x_test_disease.shape)\n",
    "print(y_test_disease.shape)\n",
    "print(data)\n",
    "label_encoder = LabelEncoder()\n",
    "y_train_disease = label_encoder.fit_transform(y_train_disease)\n",
    "y_test_disease = label_encoder.transform(y_test_disease)"
   ]
  },
  {
   "cell_type": "code",
   "execution_count": 6,
   "metadata": {
    "id": "HzG_X6b3Ycyu"
   },
   "outputs": [],
   "source": [
    "def train_and_evaluate_disease_model(model, x_train, y_train, x_test, y_test):\n",
    "\n",
    "    model.fit(x_train, y_train)\n",
    "\n",
    "    y_pred = model.predict(x_test)\n",
    "\n",
    "    f1 = f1_score(y_test, y_pred, average='macro')\n",
    "\n",
    "    accuracy = accuracy_score(y_test, y_pred)\n",
    "\n",
    "    confusion_mat = confusion_matrix(y_test, y_pred)\n",
    "\n",
    "    return f1, accuracy, confusion_mat\n",
    "\n",
    "svm_model_disease = SVC(kernel='linear')\n",
    "f1_svm_disease, accuracy_svm_disease, confusion_mat_svm_disease = train_and_evaluate_disease_model(svm_model_disease, x_train_disease, y_train_disease, x_test_disease, y_test_disease)"
   ]
  },
  {
   "cell_type": "code",
   "execution_count": 7,
   "metadata": {
    "colab": {
     "base_uri": "https://localhost:8080/"
    },
    "id": "9NBuG_dtkYkJ",
    "outputId": "eb0177ca-87d0-410d-f9fe-617f1eb30fc5"
   },
   "outputs": [
    {
     "name": "stdout",
     "output_type": "stream",
     "text": [
      "Predicted Disease: ['Migraine']\n"
     ]
    },
    {
     "name": "stderr",
     "output_type": "stream",
     "text": [
      "C:\\Users\\KAJAL\\anaconda3\\lib\\site-packages\\sklearn\\preprocessing\\_label.py:153: DataConversionWarning: A column-vector y was passed when a 1d array was expected. Please change the shape of y to (n_samples, ), for example using ravel().\n",
      "  y = column_or_1d(y, warn=True)\n"
     ]
    }
   ],
   "source": [
    "def predict_disease_and_precautions(symptoms):\n",
    "    disease_prediction = svm_model_disease.predict([symptoms])\n",
    "\n",
    "    #precaution_prediction = svm_model_precaution.predict([symptoms])\n",
    "    return [disease_prediction]\n",
    "\n",
    "symptoms = [3, 5, 3, 5, 4, 4, 3, 2, 3, 0, 0, 0, 0, 0, 0, 0, 0]\n",
    "disease = predict_disease_and_precautions(symptoms)\n",
    "\n",
    "disease_name = label_encoder.inverse_transform(disease)\n",
    "print(\"Predicted Disease:\", disease_name)\n"
   ]
  },
  {
   "cell_type": "code",
   "execution_count": 8,
   "metadata": {
    "colab": {
     "base_uri": "https://localhost:8080/"
    },
    "id": "REyHgKKup18M",
    "outputId": "21988c83-9ff2-4b73-d2a5-535d56b1d1d3"
   },
   "outputs": [
    {
     "name": "stdout",
     "output_type": "stream",
     "text": [
      "Accuracy:98.17%\n"
     ]
    }
   ],
   "source": [
    "from sklearn.metrics import accuracy_score\n",
    "\n",
    "y_pred_disease = svm_model_disease.predict(x_test_disease)\n",
    "\n",
    "accuracy = accuracy_score(y_test_disease, y_pred_disease)\n",
    "print(f\"Accuracy:{accuracy * 100:.2f}%\")"
   ]
  },
  {
   "cell_type": "code",
   "execution_count": 11,
   "metadata": {},
   "outputs": [
    {
     "data": {
      "text/plain": [
       "['disease_symptom.joblib']"
      ]
     },
     "execution_count": 11,
     "metadata": {},
     "output_type": "execute_result"
    }
   ],
   "source": [
    "import joblib\n",
    "\n",
    "joblib.dump(svm_model_disease,\"disease_symptom.joblib\")"
   ]
  },
  {
   "cell_type": "code",
   "execution_count": null,
   "metadata": {},
   "outputs": [],
   "source": []
  }
 ],
 "metadata": {
  "colab": {
   "provenance": []
  },
  "kernelspec": {
   "display_name": "Python 3 (ipykernel)",
   "language": "python",
   "name": "python3"
  },
  "language_info": {
   "codemirror_mode": {
    "name": "ipython",
    "version": 3
   },
   "file_extension": ".py",
   "mimetype": "text/x-python",
   "name": "python",
   "nbconvert_exporter": "python",
   "pygments_lexer": "ipython3",
   "version": "3.10.9"
  }
 },
 "nbformat": 4,
 "nbformat_minor": 1
}
