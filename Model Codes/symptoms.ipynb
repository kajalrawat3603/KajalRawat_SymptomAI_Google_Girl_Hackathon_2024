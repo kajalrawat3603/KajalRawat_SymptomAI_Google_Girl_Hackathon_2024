{
  "nbformat": 4,
  "nbformat_minor": 0,
  "metadata": {
    "colab": {
      "provenance": []
    },
    "kernelspec": {
      "name": "python3",
      "display_name": "Python 3"
    },
    "language_info": {
      "name": "python"
    }
  },
  "cells": [
    {
      "cell_type": "code",
      "execution_count": 42,
      "metadata": {
        "id": "aPNmiq7KQsP9"
      },
      "outputs": [],
      "source": [
        "import pandas as pd\n",
        "from sklearn.model_selection import train_test_split\n",
        "from sklearn.metrics import f1_score, accuracy_score, confusion_matrix\n",
        "from sklearn.linear_model import LogisticRegression\n",
        "from sklearn.ensemble import RandomForestClassifier, GradientBoostingClassifier\n",
        "from sklearn.svm import SVC\n",
        "from sklearn.preprocessing import LabelEncoder\n",
        "\n",
        "# Load the dataset\n",
        "df = pd.read_csv('dataset.csv')\n",
        "precaution_df = pd.read_csv('symptom_precaution.csv')\n",
        "\n",
        "# Preprocessing\n",
        "df_with_precautions = df.merge(precaution_df, on='Disease')\n",
        "\n",
        "df = pd.read_csv('dataset.csv')\n",
        "df.head()\n",
        "df1 = pd.read_csv('Symptom-severity.csv')\n",
        "df1.head()\n",
        "df2 = pd.read_csv('symptom_Description.csv')\n",
        "df2.head()\n",
        "df3 = pd.read_csv('symptom_precaution.csv')\n",
        "df3.head()\n",
        "\n",
        "df.isna().sum()\n",
        "df.isnull().sum()\n",
        "cols = df.columns\n",
        "data = df[cols].values.flatten()\n",
        "s = pd.Series(data)\n",
        "s = s.str.strip()\n",
        "s = s.values.reshape(df.shape)\n",
        "df = pd.DataFrame(s, columns=df.columns)\n",
        "df = df.fillna(0)\n",
        "df.head()\n",
        "\n",
        "vals = df.values\n",
        "symptoms = df1['Symptom'].unique()\n",
        "for i in range(len(symptoms)):\n",
        "    vals[vals == symptoms[i]] = df1[df1['Symptom'] == symptoms[i]]['weight'].values[0]\n",
        "d = pd.DataFrame(vals, columns=cols)\n",
        "d = d.replace('dischromic _patches', 0)\n",
        "d = d.replace('spotting_ urination',0)\n",
        "df = d.replace('foul_smell_of urine',0)\n",
        "df.head()\n",
        "\n",
        "(df[cols] == 0).all()\n",
        "df['Disease'].value_counts()\n",
        "df['Disease'].unique()\n",
        "data = df.iloc[:,1:].values\n",
        "labels = df['Disease'].values"
      ]
    },
    {
      "cell_type": "code",
      "source": [
        "x_train_disease, x_test_disease, y_train_disease, y_test_disease = train_test_split(data, labels, test_size=0.2, random_state=42)\n",
        "\n",
        "label_encoder = LabelEncoder()\n",
        "y_train_disease = label_encoder.fit_transform(y_train_disease)\n",
        "y_test_disease = label_encoder.transform(y_test_disease)"
      ],
      "metadata": {
        "id": "Q_QpCnmRYZC6"
      },
      "execution_count": 43,
      "outputs": []
    },
    {
      "cell_type": "code",
      "source": [
        "# Function to train and evaluate disease prediction model\n",
        "def train_and_evaluate_disease_model(model, x_train, y_train, x_test, y_test):\n",
        "    # Train the model\n",
        "    model.fit(x_train, y_train)\n",
        "\n",
        "    # Make predictions\n",
        "    y_pred = model.predict(x_test)\n",
        "\n",
        "    # Calculate F1-score\n",
        "    f1 = f1_score(y_test, y_pred, average='macro')\n",
        "\n",
        "    # Calculate accuracy\n",
        "    accuracy = accuracy_score(y_test, y_pred)\n",
        "\n",
        "    # Calculate confusion matrix\n",
        "    confusion_mat = confusion_matrix(y_test, y_pred)\n",
        "\n",
        "    return f1, accuracy, confusion_mat\n",
        "\n",
        "# Initialize and train SVM model for disease prediction\n",
        "svm_model_disease = SVC(kernel='linear')\n",
        "f1_svm_disease, accuracy_svm_disease, confusion_mat_svm_disease = train_and_evaluate_disease_model(svm_model_disease, x_train_disease, y_train_disease, x_test_disease, y_test_disease)"
      ],
      "metadata": {
        "id": "HzG_X6b3Ycyu"
      },
      "execution_count": 44,
      "outputs": []
    },
    {
      "cell_type": "code",
      "source": [
        "x_precaution = df_with_precautions.drop(columns=['Disease', 'Precaution_1', 'Precaution_2', 'Precaution_3', 'Precaution_4'])\n",
        "y_precaution = df_with_precautions[['Precaution_1', 'Precaution_2', 'Precaution_3', 'Precaution_4']]\n",
        "\n",
        "# Splitting the data into train and test sets for precaution prediction\n",
        "x_train_precaution, x_test_precaution, y_train_precaution, y_test_precaution = train_test_split(x_precaution, y_precaution, test_size=0.2, random_state=42)\n",
        "\n",
        "y_train_precaution = label_encoder.fit_transform(y_train_precaution)\n",
        "y_test_precaution = label_encoder.transform(y_test_precaution)\n",
        "\n",
        "# Function to train and evaluate precaution prediction model\n",
        "def train_and_evaluate_precaution_model(model, x_train, y_train, x_test, y_test):\n",
        "    # Train the model\n",
        "    model.fit(x_train, y_train)\n",
        "\n",
        "    # Make predictions\n",
        "    y_pred = model.predict(x_test)\n",
        "\n",
        "    # Calculate F1-score\n",
        "    f1 = f1_score(y_test, y_pred, average='macro')\n",
        "\n",
        "    # Calculate accuracy\n",
        "    accuracy = accuracy_score(y_test, y_pred)\n",
        "\n",
        "    return f1, accuracy\n",
        "\n",
        "# Initialize and train SVM model for precaution prediction\n",
        "svm_model_precaution = SVC(kernel='linear')\n",
        "f1_svm_precaution, accuracy_svm_precaution = train_and_evaluate_precaution_model(svm_model_precaution, x_train_precaution, y_train_precaution, x_test_precaution, y_test_precaution)\n",
        "\n",
        "# Function to predict disease and precautions\n",
        "def predict_disease_and_precautions(symptoms):\n",
        "    # Predict disease\n",
        "    disease_prediction = svm_model_disease.predict([symptoms])\n",
        "\n",
        "    # Predict precautions\n",
        "    precaution_prediction = svm_model_precaution.predict([symptoms])\n",
        "\n",
        "    return disease_prediction[0], precaution_prediction[0]\n",
        "\n",
        "# Example usage\n",
        "symptoms = [3, 5, 3, 5, 4, 4, 3, 2, 3, 0, 0, 0, 0, 0, 0, 0, 0]\n",
        "disease, precautions = predict_disease_and_precautions(symptoms)\n",
        "print(\"Predicted Disease:\", disease)\n",
        "print(\"Predicted Precautions:\", precautions)"
      ],
      "metadata": {
        "colab": {
          "base_uri": "https://localhost:8080/",
          "height": 373
        },
        "id": "Y91qeEwfYLTT",
        "outputId": "f6789ab2-f3fa-42b2-d404-a48b91f4947f"
      },
      "execution_count": 46,
      "outputs": [
        {
          "output_type": "error",
          "ename": "ValueError",
          "evalue": "y should be a 1d array, got an array of shape (3936, 4) instead.",
          "traceback": [
            "\u001b[0;31m---------------------------------------------------------------------------\u001b[0m",
            "\u001b[0;31mValueError\u001b[0m                                Traceback (most recent call last)",
            "\u001b[0;32m<ipython-input-46-d539b1e008d5>\u001b[0m in \u001b[0;36m<cell line: 7>\u001b[0;34m()\u001b[0m\n\u001b[1;32m      5\u001b[0m \u001b[0mx_train_precaution\u001b[0m\u001b[0;34m,\u001b[0m \u001b[0mx_test_precaution\u001b[0m\u001b[0;34m,\u001b[0m \u001b[0my_train_precaution\u001b[0m\u001b[0;34m,\u001b[0m \u001b[0my_test_precaution\u001b[0m \u001b[0;34m=\u001b[0m \u001b[0mtrain_test_split\u001b[0m\u001b[0;34m(\u001b[0m\u001b[0mx_precaution\u001b[0m\u001b[0;34m,\u001b[0m \u001b[0my_precaution\u001b[0m\u001b[0;34m,\u001b[0m \u001b[0mtest_size\u001b[0m\u001b[0;34m=\u001b[0m\u001b[0;36m0.2\u001b[0m\u001b[0;34m,\u001b[0m \u001b[0mrandom_state\u001b[0m\u001b[0;34m=\u001b[0m\u001b[0;36m42\u001b[0m\u001b[0;34m)\u001b[0m\u001b[0;34m\u001b[0m\u001b[0;34m\u001b[0m\u001b[0m\n\u001b[1;32m      6\u001b[0m \u001b[0;34m\u001b[0m\u001b[0m\n\u001b[0;32m----> 7\u001b[0;31m \u001b[0my_train_precaution\u001b[0m \u001b[0;34m=\u001b[0m \u001b[0mlabel_encoder\u001b[0m\u001b[0;34m.\u001b[0m\u001b[0mfit_transform\u001b[0m\u001b[0;34m(\u001b[0m\u001b[0my_train_precaution\u001b[0m\u001b[0;34m)\u001b[0m\u001b[0;34m\u001b[0m\u001b[0;34m\u001b[0m\u001b[0m\n\u001b[0m\u001b[1;32m      8\u001b[0m \u001b[0my_test_precaution\u001b[0m \u001b[0;34m=\u001b[0m \u001b[0mlabel_encoder\u001b[0m\u001b[0;34m.\u001b[0m\u001b[0mtransform\u001b[0m\u001b[0;34m(\u001b[0m\u001b[0my_test_precaution\u001b[0m\u001b[0;34m)\u001b[0m\u001b[0;34m\u001b[0m\u001b[0;34m\u001b[0m\u001b[0m\n\u001b[1;32m      9\u001b[0m \u001b[0;34m\u001b[0m\u001b[0m\n",
            "\u001b[0;32m/usr/local/lib/python3.10/dist-packages/sklearn/utils/_set_output.py\u001b[0m in \u001b[0;36mwrapped\u001b[0;34m(self, X, *args, **kwargs)\u001b[0m\n\u001b[1;32m    138\u001b[0m     \u001b[0;34m@\u001b[0m\u001b[0mwraps\u001b[0m\u001b[0;34m(\u001b[0m\u001b[0mf\u001b[0m\u001b[0;34m)\u001b[0m\u001b[0;34m\u001b[0m\u001b[0;34m\u001b[0m\u001b[0m\n\u001b[1;32m    139\u001b[0m     \u001b[0;32mdef\u001b[0m \u001b[0mwrapped\u001b[0m\u001b[0;34m(\u001b[0m\u001b[0mself\u001b[0m\u001b[0;34m,\u001b[0m \u001b[0mX\u001b[0m\u001b[0;34m,\u001b[0m \u001b[0;34m*\u001b[0m\u001b[0margs\u001b[0m\u001b[0;34m,\u001b[0m \u001b[0;34m**\u001b[0m\u001b[0mkwargs\u001b[0m\u001b[0;34m)\u001b[0m\u001b[0;34m:\u001b[0m\u001b[0;34m\u001b[0m\u001b[0;34m\u001b[0m\u001b[0m\n\u001b[0;32m--> 140\u001b[0;31m         \u001b[0mdata_to_wrap\u001b[0m \u001b[0;34m=\u001b[0m \u001b[0mf\u001b[0m\u001b[0;34m(\u001b[0m\u001b[0mself\u001b[0m\u001b[0;34m,\u001b[0m \u001b[0mX\u001b[0m\u001b[0;34m,\u001b[0m \u001b[0;34m*\u001b[0m\u001b[0margs\u001b[0m\u001b[0;34m,\u001b[0m \u001b[0;34m**\u001b[0m\u001b[0mkwargs\u001b[0m\u001b[0;34m)\u001b[0m\u001b[0;34m\u001b[0m\u001b[0;34m\u001b[0m\u001b[0m\n\u001b[0m\u001b[1;32m    141\u001b[0m         \u001b[0;32mif\u001b[0m \u001b[0misinstance\u001b[0m\u001b[0;34m(\u001b[0m\u001b[0mdata_to_wrap\u001b[0m\u001b[0;34m,\u001b[0m \u001b[0mtuple\u001b[0m\u001b[0;34m)\u001b[0m\u001b[0;34m:\u001b[0m\u001b[0;34m\u001b[0m\u001b[0;34m\u001b[0m\u001b[0m\n\u001b[1;32m    142\u001b[0m             \u001b[0;31m# only wrap the first output for cross decomposition\u001b[0m\u001b[0;34m\u001b[0m\u001b[0;34m\u001b[0m\u001b[0m\n",
            "\u001b[0;32m/usr/local/lib/python3.10/dist-packages/sklearn/preprocessing/_label.py\u001b[0m in \u001b[0;36mfit_transform\u001b[0;34m(self, y)\u001b[0m\n\u001b[1;32m    114\u001b[0m             \u001b[0mEncoded\u001b[0m \u001b[0mlabels\u001b[0m\u001b[0;34m.\u001b[0m\u001b[0;34m\u001b[0m\u001b[0;34m\u001b[0m\u001b[0m\n\u001b[1;32m    115\u001b[0m         \"\"\"\n\u001b[0;32m--> 116\u001b[0;31m         \u001b[0my\u001b[0m \u001b[0;34m=\u001b[0m \u001b[0mcolumn_or_1d\u001b[0m\u001b[0;34m(\u001b[0m\u001b[0my\u001b[0m\u001b[0;34m,\u001b[0m \u001b[0mwarn\u001b[0m\u001b[0;34m=\u001b[0m\u001b[0;32mTrue\u001b[0m\u001b[0;34m)\u001b[0m\u001b[0;34m\u001b[0m\u001b[0;34m\u001b[0m\u001b[0m\n\u001b[0m\u001b[1;32m    117\u001b[0m         \u001b[0mself\u001b[0m\u001b[0;34m.\u001b[0m\u001b[0mclasses_\u001b[0m\u001b[0;34m,\u001b[0m \u001b[0my\u001b[0m \u001b[0;34m=\u001b[0m \u001b[0m_unique\u001b[0m\u001b[0;34m(\u001b[0m\u001b[0my\u001b[0m\u001b[0;34m,\u001b[0m \u001b[0mreturn_inverse\u001b[0m\u001b[0;34m=\u001b[0m\u001b[0;32mTrue\u001b[0m\u001b[0;34m)\u001b[0m\u001b[0;34m\u001b[0m\u001b[0;34m\u001b[0m\u001b[0m\n\u001b[1;32m    118\u001b[0m         \u001b[0;32mreturn\u001b[0m \u001b[0my\u001b[0m\u001b[0;34m\u001b[0m\u001b[0;34m\u001b[0m\u001b[0m\n",
            "\u001b[0;32m/usr/local/lib/python3.10/dist-packages/sklearn/utils/validation.py\u001b[0m in \u001b[0;36mcolumn_or_1d\u001b[0;34m(y, dtype, warn)\u001b[0m\n\u001b[1;32m   1200\u001b[0m         \u001b[0;32mreturn\u001b[0m \u001b[0m_asarray_with_order\u001b[0m\u001b[0;34m(\u001b[0m\u001b[0mxp\u001b[0m\u001b[0;34m.\u001b[0m\u001b[0mreshape\u001b[0m\u001b[0;34m(\u001b[0m\u001b[0my\u001b[0m\u001b[0;34m,\u001b[0m \u001b[0;34m-\u001b[0m\u001b[0;36m1\u001b[0m\u001b[0;34m)\u001b[0m\u001b[0;34m,\u001b[0m \u001b[0morder\u001b[0m\u001b[0;34m=\u001b[0m\u001b[0;34m\"C\"\u001b[0m\u001b[0;34m,\u001b[0m \u001b[0mxp\u001b[0m\u001b[0;34m=\u001b[0m\u001b[0mxp\u001b[0m\u001b[0;34m)\u001b[0m\u001b[0;34m\u001b[0m\u001b[0;34m\u001b[0m\u001b[0m\n\u001b[1;32m   1201\u001b[0m \u001b[0;34m\u001b[0m\u001b[0m\n\u001b[0;32m-> 1202\u001b[0;31m     raise ValueError(\n\u001b[0m\u001b[1;32m   1203\u001b[0m         \u001b[0;34m\"y should be a 1d array, got an array of shape {} instead.\"\u001b[0m\u001b[0;34m.\u001b[0m\u001b[0mformat\u001b[0m\u001b[0;34m(\u001b[0m\u001b[0mshape\u001b[0m\u001b[0;34m)\u001b[0m\u001b[0;34m\u001b[0m\u001b[0;34m\u001b[0m\u001b[0m\n\u001b[1;32m   1204\u001b[0m     )\n",
            "\u001b[0;31mValueError\u001b[0m: y should be a 1d array, got an array of shape (3936, 4) instead."
          ]
        }
      ]
    }
  ]
}